{
 "cells": [
  {
   "cell_type": "markdown",
   "metadata": {},
   "source": [
    "# __Test file__\n",
    "\n",
    "Notebook intended to test the ```MultilinearRegression()``` class implemented in ```multilinear.py``` file in this same location.\n"
   ]
  },
  {
   "cell_type": "code",
   "execution_count": 1,
   "metadata": {},
   "outputs": [
    {
     "name": "stdout",
     "output_type": "stream",
     "text": [
      "Xdf shape :  (71, 2)\n",
      "ydf shape :  (71, 1)\n",
      "W shape : (2, 1)\n"
     ]
    }
   ],
   "source": [
    "import numpy as np\n",
    "import matplotlib.pyplot as plt\n",
    "from astropy.io import ascii\n",
    "import pandas as pd\n",
    "from sklearn.model_selection import train_test_split\n",
    "from multilinear import *\n",
    "\n",
    "# No warnings\n",
    "import warnings\n",
    "warnings.filterwarnings('ignore')\n",
    "\n",
    "#get training data\n",
    "data = ascii.read('data/table1.dat', readme='data/ReadMe')\n",
    "df = data.to_pandas()\n",
    "\n",
    "sigma0 = 200.\n",
    "df['logsigma*'] = np.log10(df['sigma*']/sigma0)\n",
    "df['logFWHM'] = np.log10(df['FWHM'])\n",
    "newdf = df[['logM','logsigma*','logFWHM']]\n",
    "newdf = newdf.apply(pd.to_numeric, errors='coerce')\n",
    "newdf = newdf.dropna()\n",
    "# newdf.describe()\n",
    "\n",
    "Xdf = np.asarray(newdf[['logsigma*','logFWHM']])\n",
    "ydf = np.asarray(newdf[['logM']])\n",
    "\n",
    "print('Xdf shape : ', Xdf.shape)\n",
    "print('ydf shape : ', ydf.shape)\n",
    "\n",
    "X_train, X_test, y_train, y_test = train_test_split(Xdf, ydf, random_state=60, test_size=0.15)\n",
    "\n",
    "X_train.shape , y_train.shape, X_test.shape , y_test.shape\n",
    "\n",
    "#checking the behavior of the np.dot() method, in order to determine the shape that w and X must have\n",
    "# ===========================================================================================================================\n",
    "np.random.seed(4)\n",
    "W = np.random.rand(X_train.shape[1],1)\n",
    "print('W shape :', W.shape) #<---- from this and Xdf.shape, we know that numpy.dot() works as usual matricial product A_mn*B_nm' \n",
    "# print(X_train)\n",
    "# print(np.dot(X_train, W))\n"
   ]
  },
  {
   "cell_type": "code",
   "execution_count": 41,
   "metadata": {},
   "outputs": [
    {
     "name": "stdout",
     "output_type": "stream",
     "text": [
      "(4, 3)\n",
      "(3,)\n",
      "[14 14  6  7]\n",
      "7\n"
     ]
    }
   ],
   "source": [
    "# '''checking the behavior of the numpy.dot method'''\n",
    "array1 = np.array([[1,2,3], \n",
    "          [1,2,3],\n",
    "          [1,1,1],\n",
    "          [2,1,1]])\n",
    "array2 = np.array([1,2,3])\n",
    "\n",
    "dot = np.dot(array1,array2)\n",
    "dot0 = np.dot(array1[3],array2)\n",
    "\n",
    "print(array1.shape)\n",
    "print(array2.shape)\n",
    "print(dot)\n",
    "print(dot0)"
   ]
  },
  {
   "cell_type": "code",
   "execution_count": 5,
   "metadata": {},
   "outputs": [
    {
     "name": "stdout",
     "output_type": "stream",
     "text": [
      "Initial cost : 17.69021551098322\n",
      "Final cost : 0.06574266259300507\n",
      "Number of epochs : 500000\n",
      "\n",
      "The optimized parameters are\n",
      "W =  [[2.46402136]]\n",
      "b =  -1.6588695617709774\n"
     ]
    }
   ],
   "source": [
    "X_train = np.asarray(newdf[['logFWHM']])\n",
    "y_train = np.asarray(newdf[['logM']])\n",
    "\n",
    "lr = MultilinearRegression()\n",
    "# m = X_train.shape[1]\n",
    "# np.random.seed(413)\n",
    "# W = np.random.rand(m,1)\n",
    "# b = np.random.rand()\n",
    "# lr.grad(X_train,y_train,W,b)\n",
    "# lr.optimizer(X_train, y_train, W, b)\n",
    "lr.fit(X_train, y_train)\n",
    "W, b = lr.W, lr.b\n",
    "\n",
    "print('\\nThe optimized parameters are')\n",
    "print('W = ', W)\n",
    "print('b = ', b)"
   ]
  },
  {
   "cell_type": "code",
   "execution_count": 3,
   "metadata": {},
   "outputs": [
    {
     "ename": "ValueError",
     "evalue": "shapes (11,2) and (1,1) not aligned: 2 (dim 1) != 1 (dim 0)",
     "output_type": "error",
     "traceback": [
      "\u001b[0;31m---------------------------------------------------------------------------\u001b[0m",
      "\u001b[0;31mValueError\u001b[0m                                Traceback (most recent call last)",
      "Cell \u001b[0;32mIn[3], line 1\u001b[0m\n\u001b[0;32m----> 1\u001b[0m lr\u001b[39m.\u001b[39;49mscore(X_test, y_test)\n",
      "File \u001b[0;32m~/Documents/2023-2/Computational-Astrophysics/Exercises/03-model/multilinear.py:58\u001b[0m, in \u001b[0;36mMultilinearRegression.score\u001b[0;34m(self, X, Y)\u001b[0m\n\u001b[1;32m     55\u001b[0m N \u001b[39m=\u001b[39m \u001b[39mlen\u001b[39m(Y)\n\u001b[1;32m     56\u001b[0m Y_mean \u001b[39m=\u001b[39m (\u001b[39m1\u001b[39m\u001b[39m/\u001b[39mN) \u001b[39m*\u001b[39m np\u001b[39m.\u001b[39msum(Y)\n\u001b[0;32m---> 58\u001b[0m num \u001b[39m=\u001b[39m np\u001b[39m.\u001b[39msum((\u001b[39mself\u001b[39;49m\u001b[39m.\u001b[39;49mpredict(X) \u001b[39m-\u001b[39m Y)\u001b[39m*\u001b[39m\u001b[39m*\u001b[39m\u001b[39m2\u001b[39m)\n\u001b[1;32m     59\u001b[0m den \u001b[39m=\u001b[39m np\u001b[39m.\u001b[39msum((Y \u001b[39m-\u001b[39m Y_mean)\u001b[39m*\u001b[39m\u001b[39m*\u001b[39m\u001b[39m2\u001b[39m)\n\u001b[1;32m     61\u001b[0m \u001b[39mreturn\u001b[39;00m \u001b[39m1\u001b[39m \u001b[39m-\u001b[39m num\u001b[39m/\u001b[39mden\n",
      "File \u001b[0;32m~/Documents/2023-2/Computational-Astrophysics/Exercises/03-model/multilinear.py:18\u001b[0m, in \u001b[0;36mMultilinearRegression.predict\u001b[0;34m(self, X, w, b)\u001b[0m\n\u001b[1;32m     15\u001b[0m \u001b[39mif\u001b[39;00m b \u001b[39mis\u001b[39;00m \u001b[39mNone\u001b[39;00m:\n\u001b[1;32m     16\u001b[0m     b \u001b[39m=\u001b[39m \u001b[39mself\u001b[39m\u001b[39m.\u001b[39mb\n\u001b[0;32m---> 18\u001b[0m \u001b[39mreturn\u001b[39;00m b \u001b[39m+\u001b[39m np\u001b[39m.\u001b[39;49mdot(X,w)\n",
      "File \u001b[0;32m<__array_function__ internals>:180\u001b[0m, in \u001b[0;36mdot\u001b[0;34m(*args, **kwargs)\u001b[0m\n",
      "\u001b[0;31mValueError\u001b[0m: shapes (11,2) and (1,1) not aligned: 2 (dim 1) != 1 (dim 0)"
     ]
    }
   ],
   "source": [
    "lr.score(X_test, y_test) #in this version, this part is not working, since X_test and y_test are not defined"
   ]
  },
  {
   "cell_type": "code",
   "execution_count": 4,
   "metadata": {},
   "outputs": [
    {
     "data": {
      "text/plain": [
       "0.8472284844250572"
      ]
     },
     "execution_count": 4,
     "metadata": {},
     "output_type": "execute_result"
    }
   ],
   "source": [
    "lr.score(X_train, y_train)"
   ]
  },
  {
   "cell_type": "code",
   "execution_count": 5,
   "metadata": {},
   "outputs": [
    {
     "data": {
      "text/plain": [
       "[<matplotlib.lines.Line2D at 0x7f3729c9be80>]"
      ]
     },
     "execution_count": 5,
     "metadata": {},
     "output_type": "execute_result"
    },
    {
     "data": {
      "image/png": "[encoded data removed]",
      "text/plain": [
       "<Figure size 640x480 with 1 Axes>"
      ]
     },
     "metadata": {},
     "output_type": "display_data"
    }
   ],
   "source": [
    "# print(len(lr.history))\n",
    "plt.plot(np.arange(0, len(lr.history[:500])), lr.history[:500])"
   ]
  }
 ],
 "metadata": {
  "kernelspec": {
   "display_name": "herrcomp",
   "language": "python",
   "name": "python3"
  },
  "language_info": {
   "codemirror_mode": {
    "name": "ipython",
    "version": 3
   },
   "file_extension": ".py",
   "mimetype": "text/x-python",
   "name": "python",
   "nbconvert_exporter": "python",
   "pygments_lexer": "ipython3",
   "version": "3.10.9"
  },
  "orig_nbformat": 4
 },
 "nbformat": 4,
 "nbformat_minor": 2
}
